{
  "cells": [
    {
      "cell_type": "markdown",
      "metadata": {
        "id": "view-in-github",
        "colab_type": "text"
      },
      "source": [
        "<a href=\"https://colab.research.google.com/github/samharsh02/Text-generation-using-LSTM/blob/main/TEXT_GENERATION_USING_LSTM_FINAL.ipynb\" target=\"_parent\"><img src=\"https://colab.research.google.com/assets/colab-badge.svg\" alt=\"Open In Colab\"/></a>"
      ]
    },
    {
      "metadata": {
        "id": "Q_K2b3bUl824",
        "_uuid": "ef8320f820b09635a2af4dfd7f0de3135c240f43"
      },
      "cell_type": "markdown",
      "source": [
        "first, import all the needed libraries for our project:"
      ]
    },
    {
      "metadata": {
        "id": "coOsymS4l3Cq",
        "trusted": true,
        "_uuid": "5bede3d68d17c656fffbde8bf7e684a440ad8a8e"
      },
      "cell_type": "code",
      "source": [
        "import numpy as np\n",
        "import pandas as pd\n",
        "import sys\n",
        "import tensorflow as tf\n",
        "import matplotlib\n",
        "\n",
        "from keras.models import Sequential\n",
        "from keras.layers import LSTM, Activation, Flatten, Dropout, Dense, Embedding, TimeDistributed\n",
        "from keras.callbacks import ModelCheckpoint\n",
        "import keras.utils as ku\n",
        "#from keras import to_categorical\n",
        "#import tensorflow.keras.utils.np_utils as np_utils\n"
      ],
      "execution_count": null,
      "outputs": []
    },
    {
      "metadata": {
        "id": "d87T5nx4mlYP",
        "_uuid": "1b3d889199df236de5ce28c5a4348cfde33998c8"
      },
      "cell_type": "markdown",
      "source": [
        "**Load the dataset :**\n",
        "\n",
        "kindly load the dataset into your machine before executing the code\n"
      ]
    },
    {
      "metadata": {
        "id": "UlevTCJ4mjj2",
        "trusted": true,
        "_uuid": "1076960bd3f46ada4582e3a20ebf3f7cff972f58"
      },
      "cell_type": "code",
      "source": [
        "dataset = pd.read_csv('taylor_swift_lyrics.csv', encoding = \"latin1\")\n"
      ],
      "execution_count": null,
      "outputs": []
    },
    {
      "metadata": {
        "id": "gF7rXKwdnAd9",
        "colab": {
          "base_uri": "https://localhost:8080/",
          "height": 206
        },
        "outputId": "f74f7255-2f9e-43e8-b952-4e2b797a38b8",
        "trusted": true,
        "_uuid": "3a8c0bb2550fe2ce4c255813e03b82f73181604b"
      },
      "cell_type": "code",
      "source": [
        "dataset.head()"
      ],
      "execution_count": null,
      "outputs": [
        {
          "output_type": "execute_result",
          "data": {
            "text/plain": [
              "         artist         album track_title  track_n  \\\n",
              "0  Taylor Swift  Taylor Swift  Tim McGraw        1   \n",
              "1  Taylor Swift  Taylor Swift  Tim McGraw        1   \n",
              "2  Taylor Swift  Taylor Swift  Tim McGraw        1   \n",
              "3  Taylor Swift  Taylor Swift  Tim McGraw        1   \n",
              "4  Taylor Swift  Taylor Swift  Tim McGraw        1   \n",
              "\n",
              "                                         lyric  line  year  \n",
              "0          He said the way my blue eyes shined     1  2006  \n",
              "1  Put those Georgia stars to shame that night     2  2006  \n",
              "2                       I said, \"That's a lie\"     3  2006  \n",
              "3                  Just a boy in a Chevy truck     4  2006  \n",
              "4         That had a tendency of gettin' stuck     5  2006  "
            ],
            "text/html": [
              "\n",
              "  <div id=\"df-e7180990-0254-413f-9c46-f4cde2680fa1\" class=\"colab-df-container\">\n",
              "    <div>\n",
              "<style scoped>\n",
              "    .dataframe tbody tr th:only-of-type {\n",
              "        vertical-align: middle;\n",
              "    }\n",
              "\n",
              "    .dataframe tbody tr th {\n",
              "        vertical-align: top;\n",
              "    }\n",
              "\n",
              "    .dataframe thead th {\n",
              "        text-align: right;\n",
              "    }\n",
              "</style>\n",
              "<table border=\"1\" class=\"dataframe\">\n",
              "  <thead>\n",
              "    <tr style=\"text-align: right;\">\n",
              "      <th></th>\n",
              "      <th>artist</th>\n",
              "      <th>album</th>\n",
              "      <th>track_title</th>\n",
              "      <th>track_n</th>\n",
              "      <th>lyric</th>\n",
              "      <th>line</th>\n",
              "      <th>year</th>\n",
              "    </tr>\n",
              "  </thead>\n",
              "  <tbody>\n",
              "    <tr>\n",
              "      <th>0</th>\n",
              "      <td>Taylor Swift</td>\n",
              "      <td>Taylor Swift</td>\n",
              "      <td>Tim McGraw</td>\n",
              "      <td>1</td>\n",
              "      <td>He said the way my blue eyes shined</td>\n",
              "      <td>1</td>\n",
              "      <td>2006</td>\n",
              "    </tr>\n",
              "    <tr>\n",
              "      <th>1</th>\n",
              "      <td>Taylor Swift</td>\n",
              "      <td>Taylor Swift</td>\n",
              "      <td>Tim McGraw</td>\n",
              "      <td>1</td>\n",
              "      <td>Put those Georgia stars to shame that night</td>\n",
              "      <td>2</td>\n",
              "      <td>2006</td>\n",
              "    </tr>\n",
              "    <tr>\n",
              "      <th>2</th>\n",
              "      <td>Taylor Swift</td>\n",
              "      <td>Taylor Swift</td>\n",
              "      <td>Tim McGraw</td>\n",
              "      <td>1</td>\n",
              "      <td>I said, \"That's a lie\"</td>\n",
              "      <td>3</td>\n",
              "      <td>2006</td>\n",
              "    </tr>\n",
              "    <tr>\n",
              "      <th>3</th>\n",
              "      <td>Taylor Swift</td>\n",
              "      <td>Taylor Swift</td>\n",
              "      <td>Tim McGraw</td>\n",
              "      <td>1</td>\n",
              "      <td>Just a boy in a Chevy truck</td>\n",
              "      <td>4</td>\n",
              "      <td>2006</td>\n",
              "    </tr>\n",
              "    <tr>\n",
              "      <th>4</th>\n",
              "      <td>Taylor Swift</td>\n",
              "      <td>Taylor Swift</td>\n",
              "      <td>Tim McGraw</td>\n",
              "      <td>1</td>\n",
              "      <td>That had a tendency of gettin' stuck</td>\n",
              "      <td>5</td>\n",
              "      <td>2006</td>\n",
              "    </tr>\n",
              "  </tbody>\n",
              "</table>\n",
              "</div>\n",
              "    <div class=\"colab-df-buttons\">\n",
              "\n",
              "  <div class=\"colab-df-container\">\n",
              "    <button class=\"colab-df-convert\" onclick=\"convertToInteractive('df-e7180990-0254-413f-9c46-f4cde2680fa1')\"\n",
              "            title=\"Convert this dataframe to an interactive table.\"\n",
              "            style=\"display:none;\">\n",
              "\n",
              "  <svg xmlns=\"http://www.w3.org/2000/svg\" height=\"24px\" viewBox=\"0 -960 960 960\">\n",
              "    <path d=\"M120-120v-720h720v720H120Zm60-500h600v-160H180v160Zm220 220h160v-160H400v160Zm0 220h160v-160H400v160ZM180-400h160v-160H180v160Zm440 0h160v-160H620v160ZM180-180h160v-160H180v160Zm440 0h160v-160H620v160Z\"/>\n",
              "  </svg>\n",
              "    </button>\n",
              "\n",
              "  <style>\n",
              "    .colab-df-container {\n",
              "      display:flex;\n",
              "      gap: 12px;\n",
              "    }\n",
              "\n",
              "    .colab-df-convert {\n",
              "      background-color: #E8F0FE;\n",
              "      border: none;\n",
              "      border-radius: 50%;\n",
              "      cursor: pointer;\n",
              "      display: none;\n",
              "      fill: #1967D2;\n",
              "      height: 32px;\n",
              "      padding: 0 0 0 0;\n",
              "      width: 32px;\n",
              "    }\n",
              "\n",
              "    .colab-df-convert:hover {\n",
              "      background-color: #E2EBFA;\n",
              "      box-shadow: 0px 1px 2px rgba(60, 64, 67, 0.3), 0px 1px 3px 1px rgba(60, 64, 67, 0.15);\n",
              "      fill: #174EA6;\n",
              "    }\n",
              "\n",
              "    .colab-df-buttons div {\n",
              "      margin-bottom: 4px;\n",
              "    }\n",
              "\n",
              "    [theme=dark] .colab-df-convert {\n",
              "      background-color: #3B4455;\n",
              "      fill: #D2E3FC;\n",
              "    }\n",
              "\n",
              "    [theme=dark] .colab-df-convert:hover {\n",
              "      background-color: #434B5C;\n",
              "      box-shadow: 0px 1px 3px 1px rgba(0, 0, 0, 0.15);\n",
              "      filter: drop-shadow(0px 1px 2px rgba(0, 0, 0, 0.3));\n",
              "      fill: #FFFFFF;\n",
              "    }\n",
              "  </style>\n",
              "\n",
              "    <script>\n",
              "      const buttonEl =\n",
              "        document.querySelector('#df-e7180990-0254-413f-9c46-f4cde2680fa1 button.colab-df-convert');\n",
              "      buttonEl.style.display =\n",
              "        google.colab.kernel.accessAllowed ? 'block' : 'none';\n",
              "\n",
              "      async function convertToInteractive(key) {\n",
              "        const element = document.querySelector('#df-e7180990-0254-413f-9c46-f4cde2680fa1');\n",
              "        const dataTable =\n",
              "          await google.colab.kernel.invokeFunction('convertToInteractive',\n",
              "                                                    [key], {});\n",
              "        if (!dataTable) return;\n",
              "\n",
              "        const docLinkHtml = 'Like what you see? Visit the ' +\n",
              "          '<a target=\"_blank\" href=https://colab.research.google.com/notebooks/data_table.ipynb>data table notebook</a>'\n",
              "          + ' to learn more about interactive tables.';\n",
              "        element.innerHTML = '';\n",
              "        dataTable['output_type'] = 'display_data';\n",
              "        await google.colab.output.renderOutput(dataTable, element);\n",
              "        const docLink = document.createElement('div');\n",
              "        docLink.innerHTML = docLinkHtml;\n",
              "        element.appendChild(docLink);\n",
              "      }\n",
              "    </script>\n",
              "  </div>\n",
              "\n",
              "\n",
              "<div id=\"df-631c8020-ff34-4c17-86ff-e9cf886e627f\">\n",
              "  <button class=\"colab-df-quickchart\" onclick=\"quickchart('df-631c8020-ff34-4c17-86ff-e9cf886e627f')\"\n",
              "            title=\"Suggest charts\"\n",
              "            style=\"display:none;\">\n",
              "\n",
              "<svg xmlns=\"http://www.w3.org/2000/svg\" height=\"24px\"viewBox=\"0 0 24 24\"\n",
              "     width=\"24px\">\n",
              "    <g>\n",
              "        <path d=\"M19 3H5c-1.1 0-2 .9-2 2v14c0 1.1.9 2 2 2h14c1.1 0 2-.9 2-2V5c0-1.1-.9-2-2-2zM9 17H7v-7h2v7zm4 0h-2V7h2v10zm4 0h-2v-4h2v4z\"/>\n",
              "    </g>\n",
              "</svg>\n",
              "  </button>\n",
              "\n",
              "<style>\n",
              "  .colab-df-quickchart {\n",
              "      --bg-color: #E8F0FE;\n",
              "      --fill-color: #1967D2;\n",
              "      --hover-bg-color: #E2EBFA;\n",
              "      --hover-fill-color: #174EA6;\n",
              "      --disabled-fill-color: #AAA;\n",
              "      --disabled-bg-color: #DDD;\n",
              "  }\n",
              "\n",
              "  [theme=dark] .colab-df-quickchart {\n",
              "      --bg-color: #3B4455;\n",
              "      --fill-color: #D2E3FC;\n",
              "      --hover-bg-color: #434B5C;\n",
              "      --hover-fill-color: #FFFFFF;\n",
              "      --disabled-bg-color: #3B4455;\n",
              "      --disabled-fill-color: #666;\n",
              "  }\n",
              "\n",
              "  .colab-df-quickchart {\n",
              "    background-color: var(--bg-color);\n",
              "    border: none;\n",
              "    border-radius: 50%;\n",
              "    cursor: pointer;\n",
              "    display: none;\n",
              "    fill: var(--fill-color);\n",
              "    height: 32px;\n",
              "    padding: 0;\n",
              "    width: 32px;\n",
              "  }\n",
              "\n",
              "  .colab-df-quickchart:hover {\n",
              "    background-color: var(--hover-bg-color);\n",
              "    box-shadow: 0 1px 2px rgba(60, 64, 67, 0.3), 0 1px 3px 1px rgba(60, 64, 67, 0.15);\n",
              "    fill: var(--button-hover-fill-color);\n",
              "  }\n",
              "\n",
              "  .colab-df-quickchart-complete:disabled,\n",
              "  .colab-df-quickchart-complete:disabled:hover {\n",
              "    background-color: var(--disabled-bg-color);\n",
              "    fill: var(--disabled-fill-color);\n",
              "    box-shadow: none;\n",
              "  }\n",
              "\n",
              "  .colab-df-spinner {\n",
              "    border: 2px solid var(--fill-color);\n",
              "    border-color: transparent;\n",
              "    border-bottom-color: var(--fill-color);\n",
              "    animation:\n",
              "      spin 1s steps(1) infinite;\n",
              "  }\n",
              "\n",
              "  @keyframes spin {\n",
              "    0% {\n",
              "      border-color: transparent;\n",
              "      border-bottom-color: var(--fill-color);\n",
              "      border-left-color: var(--fill-color);\n",
              "    }\n",
              "    20% {\n",
              "      border-color: transparent;\n",
              "      border-left-color: var(--fill-color);\n",
              "      border-top-color: var(--fill-color);\n",
              "    }\n",
              "    30% {\n",
              "      border-color: transparent;\n",
              "      border-left-color: var(--fill-color);\n",
              "      border-top-color: var(--fill-color);\n",
              "      border-right-color: var(--fill-color);\n",
              "    }\n",
              "    40% {\n",
              "      border-color: transparent;\n",
              "      border-right-color: var(--fill-color);\n",
              "      border-top-color: var(--fill-color);\n",
              "    }\n",
              "    60% {\n",
              "      border-color: transparent;\n",
              "      border-right-color: var(--fill-color);\n",
              "    }\n",
              "    80% {\n",
              "      border-color: transparent;\n",
              "      border-right-color: var(--fill-color);\n",
              "      border-bottom-color: var(--fill-color);\n",
              "    }\n",
              "    90% {\n",
              "      border-color: transparent;\n",
              "      border-bottom-color: var(--fill-color);\n",
              "    }\n",
              "  }\n",
              "</style>\n",
              "\n",
              "  <script>\n",
              "    async function quickchart(key) {\n",
              "      const quickchartButtonEl =\n",
              "        document.querySelector('#' + key + ' button');\n",
              "      quickchartButtonEl.disabled = true;  // To prevent multiple clicks.\n",
              "      quickchartButtonEl.classList.add('colab-df-spinner');\n",
              "      try {\n",
              "        const charts = await google.colab.kernel.invokeFunction(\n",
              "            'suggestCharts', [key], {});\n",
              "      } catch (error) {\n",
              "        console.error('Error during call to suggestCharts:', error);\n",
              "      }\n",
              "      quickchartButtonEl.classList.remove('colab-df-spinner');\n",
              "      quickchartButtonEl.classList.add('colab-df-quickchart-complete');\n",
              "    }\n",
              "    (() => {\n",
              "      let quickchartButtonEl =\n",
              "        document.querySelector('#df-631c8020-ff34-4c17-86ff-e9cf886e627f button');\n",
              "      quickchartButtonEl.style.display =\n",
              "        google.colab.kernel.accessAllowed ? 'block' : 'none';\n",
              "    })();\n",
              "  </script>\n",
              "</div>\n",
              "    </div>\n",
              "  </div>\n"
            ]
          },
          "metadata": {},
          "execution_count": 6
        }
      ]
    },
    {
      "metadata": {
        "id": "ET89hoHGnHz9",
        "colab": {
          "base_uri": "https://localhost:8080/",
          "height": 300
        },
        "outputId": "20ea7203-d963-4602-a6d9-f155d9836567",
        "trusted": true,
        "_uuid": "f0c78840c2b80462be9263c9825c4123bbcc0cae"
      },
      "cell_type": "code",
      "source": [
        "dataset.describe()"
      ],
      "execution_count": null,
      "outputs": [
        {
          "output_type": "execute_result",
          "data": {
            "text/plain": [
              "           track_n         line         year\n",
              "count  4862.000000  4862.000000  4862.000000\n",
              "mean      8.216989    28.426573  2011.882764\n",
              "std       4.696379    18.343649     3.571447\n",
              "min       1.000000     1.000000  2006.000000\n",
              "25%       4.000000    13.000000  2010.000000\n",
              "50%       8.000000    26.000000  2012.000000\n",
              "75%      12.000000    41.000000  2014.000000\n",
              "max      19.000000   101.000000  2017.000000"
            ],
            "text/html": [
              "\n",
              "  <div id=\"df-6e3d341e-d03b-4195-ad84-36a60cf35260\" class=\"colab-df-container\">\n",
              "    <div>\n",
              "<style scoped>\n",
              "    .dataframe tbody tr th:only-of-type {\n",
              "        vertical-align: middle;\n",
              "    }\n",
              "\n",
              "    .dataframe tbody tr th {\n",
              "        vertical-align: top;\n",
              "    }\n",
              "\n",
              "    .dataframe thead th {\n",
              "        text-align: right;\n",
              "    }\n",
              "</style>\n",
              "<table border=\"1\" class=\"dataframe\">\n",
              "  <thead>\n",
              "    <tr style=\"text-align: right;\">\n",
              "      <th></th>\n",
              "      <th>track_n</th>\n",
              "      <th>line</th>\n",
              "      <th>year</th>\n",
              "    </tr>\n",
              "  </thead>\n",
              "  <tbody>\n",
              "    <tr>\n",
              "      <th>count</th>\n",
              "      <td>4862.000000</td>\n",
              "      <td>4862.000000</td>\n",
              "      <td>4862.000000</td>\n",
              "    </tr>\n",
              "    <tr>\n",
              "      <th>mean</th>\n",
              "      <td>8.216989</td>\n",
              "      <td>28.426573</td>\n",
              "      <td>2011.882764</td>\n",
              "    </tr>\n",
              "    <tr>\n",
              "      <th>std</th>\n",
              "      <td>4.696379</td>\n",
              "      <td>18.343649</td>\n",
              "      <td>3.571447</td>\n",
              "    </tr>\n",
              "    <tr>\n",
              "      <th>min</th>\n",
              "      <td>1.000000</td>\n",
              "      <td>1.000000</td>\n",
              "      <td>2006.000000</td>\n",
              "    </tr>\n",
              "    <tr>\n",
              "      <th>25%</th>\n",
              "      <td>4.000000</td>\n",
              "      <td>13.000000</td>\n",
              "      <td>2010.000000</td>\n",
              "    </tr>\n",
              "    <tr>\n",
              "      <th>50%</th>\n",
              "      <td>8.000000</td>\n",
              "      <td>26.000000</td>\n",
              "      <td>2012.000000</td>\n",
              "    </tr>\n",
              "    <tr>\n",
              "      <th>75%</th>\n",
              "      <td>12.000000</td>\n",
              "      <td>41.000000</td>\n",
              "      <td>2014.000000</td>\n",
              "    </tr>\n",
              "    <tr>\n",
              "      <th>max</th>\n",
              "      <td>19.000000</td>\n",
              "      <td>101.000000</td>\n",
              "      <td>2017.000000</td>\n",
              "    </tr>\n",
              "  </tbody>\n",
              "</table>\n",
              "</div>\n",
              "    <div class=\"colab-df-buttons\">\n",
              "\n",
              "  <div class=\"colab-df-container\">\n",
              "    <button class=\"colab-df-convert\" onclick=\"convertToInteractive('df-6e3d341e-d03b-4195-ad84-36a60cf35260')\"\n",
              "            title=\"Convert this dataframe to an interactive table.\"\n",
              "            style=\"display:none;\">\n",
              "\n",
              "  <svg xmlns=\"http://www.w3.org/2000/svg\" height=\"24px\" viewBox=\"0 -960 960 960\">\n",
              "    <path d=\"M120-120v-720h720v720H120Zm60-500h600v-160H180v160Zm220 220h160v-160H400v160Zm0 220h160v-160H400v160ZM180-400h160v-160H180v160Zm440 0h160v-160H620v160ZM180-180h160v-160H180v160Zm440 0h160v-160H620v160Z\"/>\n",
              "  </svg>\n",
              "    </button>\n",
              "\n",
              "  <style>\n",
              "    .colab-df-container {\n",
              "      display:flex;\n",
              "      gap: 12px;\n",
              "    }\n",
              "\n",
              "    .colab-df-convert {\n",
              "      background-color: #E8F0FE;\n",
              "      border: none;\n",
              "      border-radius: 50%;\n",
              "      cursor: pointer;\n",
              "      display: none;\n",
              "      fill: #1967D2;\n",
              "      height: 32px;\n",
              "      padding: 0 0 0 0;\n",
              "      width: 32px;\n",
              "    }\n",
              "\n",
              "    .colab-df-convert:hover {\n",
              "      background-color: #E2EBFA;\n",
              "      box-shadow: 0px 1px 2px rgba(60, 64, 67, 0.3), 0px 1px 3px 1px rgba(60, 64, 67, 0.15);\n",
              "      fill: #174EA6;\n",
              "    }\n",
              "\n",
              "    .colab-df-buttons div {\n",
              "      margin-bottom: 4px;\n",
              "    }\n",
              "\n",
              "    [theme=dark] .colab-df-convert {\n",
              "      background-color: #3B4455;\n",
              "      fill: #D2E3FC;\n",
              "    }\n",
              "\n",
              "    [theme=dark] .colab-df-convert:hover {\n",
              "      background-color: #434B5C;\n",
              "      box-shadow: 0px 1px 3px 1px rgba(0, 0, 0, 0.15);\n",
              "      filter: drop-shadow(0px 1px 2px rgba(0, 0, 0, 0.3));\n",
              "      fill: #FFFFFF;\n",
              "    }\n",
              "  </style>\n",
              "\n",
              "    <script>\n",
              "      const buttonEl =\n",
              "        document.querySelector('#df-6e3d341e-d03b-4195-ad84-36a60cf35260 button.colab-df-convert');\n",
              "      buttonEl.style.display =\n",
              "        google.colab.kernel.accessAllowed ? 'block' : 'none';\n",
              "\n",
              "      async function convertToInteractive(key) {\n",
              "        const element = document.querySelector('#df-6e3d341e-d03b-4195-ad84-36a60cf35260');\n",
              "        const dataTable =\n",
              "          await google.colab.kernel.invokeFunction('convertToInteractive',\n",
              "                                                    [key], {});\n",
              "        if (!dataTable) return;\n",
              "\n",
              "        const docLinkHtml = 'Like what you see? Visit the ' +\n",
              "          '<a target=\"_blank\" href=https://colab.research.google.com/notebooks/data_table.ipynb>data table notebook</a>'\n",
              "          + ' to learn more about interactive tables.';\n",
              "        element.innerHTML = '';\n",
              "        dataTable['output_type'] = 'display_data';\n",
              "        await google.colab.output.renderOutput(dataTable, element);\n",
              "        const docLink = document.createElement('div');\n",
              "        docLink.innerHTML = docLinkHtml;\n",
              "        element.appendChild(docLink);\n",
              "      }\n",
              "    </script>\n",
              "  </div>\n",
              "\n",
              "\n",
              "<div id=\"df-2c376b07-f461-457d-be54-5bb1b86dcaab\">\n",
              "  <button class=\"colab-df-quickchart\" onclick=\"quickchart('df-2c376b07-f461-457d-be54-5bb1b86dcaab')\"\n",
              "            title=\"Suggest charts\"\n",
              "            style=\"display:none;\">\n",
              "\n",
              "<svg xmlns=\"http://www.w3.org/2000/svg\" height=\"24px\"viewBox=\"0 0 24 24\"\n",
              "     width=\"24px\">\n",
              "    <g>\n",
              "        <path d=\"M19 3H5c-1.1 0-2 .9-2 2v14c0 1.1.9 2 2 2h14c1.1 0 2-.9 2-2V5c0-1.1-.9-2-2-2zM9 17H7v-7h2v7zm4 0h-2V7h2v10zm4 0h-2v-4h2v4z\"/>\n",
              "    </g>\n",
              "</svg>\n",
              "  </button>\n",
              "\n",
              "<style>\n",
              "  .colab-df-quickchart {\n",
              "      --bg-color: #E8F0FE;\n",
              "      --fill-color: #1967D2;\n",
              "      --hover-bg-color: #E2EBFA;\n",
              "      --hover-fill-color: #174EA6;\n",
              "      --disabled-fill-color: #AAA;\n",
              "      --disabled-bg-color: #DDD;\n",
              "  }\n",
              "\n",
              "  [theme=dark] .colab-df-quickchart {\n",
              "      --bg-color: #3B4455;\n",
              "      --fill-color: #D2E3FC;\n",
              "      --hover-bg-color: #434B5C;\n",
              "      --hover-fill-color: #FFFFFF;\n",
              "      --disabled-bg-color: #3B4455;\n",
              "      --disabled-fill-color: #666;\n",
              "  }\n",
              "\n",
              "  .colab-df-quickchart {\n",
              "    background-color: var(--bg-color);\n",
              "    border: none;\n",
              "    border-radius: 50%;\n",
              "    cursor: pointer;\n",
              "    display: none;\n",
              "    fill: var(--fill-color);\n",
              "    height: 32px;\n",
              "    padding: 0;\n",
              "    width: 32px;\n",
              "  }\n",
              "\n",
              "  .colab-df-quickchart:hover {\n",
              "    background-color: var(--hover-bg-color);\n",
              "    box-shadow: 0 1px 2px rgba(60, 64, 67, 0.3), 0 1px 3px 1px rgba(60, 64, 67, 0.15);\n",
              "    fill: var(--button-hover-fill-color);\n",
              "  }\n",
              "\n",
              "  .colab-df-quickchart-complete:disabled,\n",
              "  .colab-df-quickchart-complete:disabled:hover {\n",
              "    background-color: var(--disabled-bg-color);\n",
              "    fill: var(--disabled-fill-color);\n",
              "    box-shadow: none;\n",
              "  }\n",
              "\n",
              "  .colab-df-spinner {\n",
              "    border: 2px solid var(--fill-color);\n",
              "    border-color: transparent;\n",
              "    border-bottom-color: var(--fill-color);\n",
              "    animation:\n",
              "      spin 1s steps(1) infinite;\n",
              "  }\n",
              "\n",
              "  @keyframes spin {\n",
              "    0% {\n",
              "      border-color: transparent;\n",
              "      border-bottom-color: var(--fill-color);\n",
              "      border-left-color: var(--fill-color);\n",
              "    }\n",
              "    20% {\n",
              "      border-color: transparent;\n",
              "      border-left-color: var(--fill-color);\n",
              "      border-top-color: var(--fill-color);\n",
              "    }\n",
              "    30% {\n",
              "      border-color: transparent;\n",
              "      border-left-color: var(--fill-color);\n",
              "      border-top-color: var(--fill-color);\n",
              "      border-right-color: var(--fill-color);\n",
              "    }\n",
              "    40% {\n",
              "      border-color: transparent;\n",
              "      border-right-color: var(--fill-color);\n",
              "      border-top-color: var(--fill-color);\n",
              "    }\n",
              "    60% {\n",
              "      border-color: transparent;\n",
              "      border-right-color: var(--fill-color);\n",
              "    }\n",
              "    80% {\n",
              "      border-color: transparent;\n",
              "      border-right-color: var(--fill-color);\n",
              "      border-bottom-color: var(--fill-color);\n",
              "    }\n",
              "    90% {\n",
              "      border-color: transparent;\n",
              "      border-bottom-color: var(--fill-color);\n",
              "    }\n",
              "  }\n",
              "</style>\n",
              "\n",
              "  <script>\n",
              "    async function quickchart(key) {\n",
              "      const quickchartButtonEl =\n",
              "        document.querySelector('#' + key + ' button');\n",
              "      quickchartButtonEl.disabled = true;  // To prevent multiple clicks.\n",
              "      quickchartButtonEl.classList.add('colab-df-spinner');\n",
              "      try {\n",
              "        const charts = await google.colab.kernel.invokeFunction(\n",
              "            'suggestCharts', [key], {});\n",
              "      } catch (error) {\n",
              "        console.error('Error during call to suggestCharts:', error);\n",
              "      }\n",
              "      quickchartButtonEl.classList.remove('colab-df-spinner');\n",
              "      quickchartButtonEl.classList.add('colab-df-quickchart-complete');\n",
              "    }\n",
              "    (() => {\n",
              "      let quickchartButtonEl =\n",
              "        document.querySelector('#df-2c376b07-f461-457d-be54-5bb1b86dcaab button');\n",
              "      quickchartButtonEl.style.display =\n",
              "        google.colab.kernel.accessAllowed ? 'block' : 'none';\n",
              "    })();\n",
              "  </script>\n",
              "</div>\n",
              "    </div>\n",
              "  </div>\n"
            ]
          },
          "metadata": {},
          "execution_count": 7
        }
      ]
    },
    {
      "metadata": {
        "id": "OeN5LhosnYD2",
        "_uuid": "4d1e32d6460efd6d2b619d0da3b0b2b9dcaaffe6"
      },
      "cell_type": "markdown",
      "source": [
        "We need to concatenate the lines of each song to get each song by its own in one string."
      ]
    },
    {
      "metadata": {
        "id": "0DFbVyycoFek",
        "trusted": true,
        "_uuid": "71ac603331b2b4f66bf70dcf56f2ae20304b3ba5"
      },
      "cell_type": "code",
      "source": [
        "def processFirstLine(lyrics, songID, songName, row):\n",
        "    lyrics.append(row['lyric'] + '\\n')\n",
        "    songID.append( row['year']*100+ row['track_n'])\n",
        "    songName.append(row['track_title'])\n",
        "    return lyrics,songID,songName"
      ],
      "execution_count": null,
      "outputs": []
    },
    {
      "metadata": {
        "id": "1jTFUaamn19J",
        "trusted": true,
        "_uuid": "9d204cecc20cfa51f80ff4566bbb3a468782ab66"
      },
      "cell_type": "code",
      "source": [
        "lyrics = []\n",
        "songID = []\n",
        "songName = []\n",
        "\n",
        "# songNumber indicates the song number in the dataset\n",
        "songNumber = 1\n",
        "\n",
        "i = 0\n",
        "isFirstLine = True\n",
        "\n",
        "# Iterate through every lyrics line and join them together for each song independently\n",
        "for index,row in dataset.iterrows():\n",
        "    if(songNumber == row['track_n']):\n",
        "        if (isFirstLine):\n",
        "            lyrics,songID,songName = processFirstLine(lyrics,songID,songName,row)\n",
        "            isFirstLine = False\n",
        "        else :\n",
        "            #if we are still in the same song , keep joining the lyrics\n",
        "            lyrics[i] +=  row['lyric'] + '\\n'\n",
        "    #When it's done joining a song's lyrics lines , go to the next song :\n",
        "    else :\n",
        "        lyrics,songID,songName = processFirstLine(lyrics,songID,songName,row)\n",
        "        songNumber = row['track_n']\n",
        "        i+=1\n"
      ],
      "execution_count": null,
      "outputs": []
    },
    {
      "metadata": {
        "id": "0lEEwMvhpZ_2",
        "trusted": true,
        "_uuid": "029c2d2d8ecfecff324b06a8ba5483fc65add58f"
      },
      "cell_type": "code",
      "source": [
        "\n",
        "# Define a new pandas DataFrame to save songID , songName , Lyrics in it to use them later\n",
        "lyrics_data = pd.DataFrame({'songID':songID, 'songName':songName, 'lyrics':lyrics })\n"
      ],
      "execution_count": null,
      "outputs": []
    },
    {
      "metadata": {
        "id": "29Dii_ZiqYlf",
        "_uuid": "8bcb81f5e8f94894763d7fafca2cf6274b552129"
      },
      "cell_type": "markdown",
      "source": [
        "After getting the wanted data from the dataset , we need to preprocess it.\n",
        "\n",
        "## Preprocessing The Lyrics\n",
        "\n",
        "\n"
      ]
    },
    {
      "metadata": {
        "id": "N48sFRVHqFpq",
        "trusted": true,
        "_uuid": "50b5c154a26244566dc7ed68712e3ec059d6cd3a"
      },
      "cell_type": "code",
      "source": [
        "lyricsText =''\n",
        "for listitem in lyrics:\n",
        "    lyricsText += listitem\n"
      ],
      "execution_count": null,
      "outputs": []
    },
    {
      "metadata": {
        "id": "tBR3GAjDQ_nL",
        "_uuid": "8208dbef206f7083724d8377f7c6e09cddf79e2a"
      },
      "cell_type": "markdown",
      "source": [
        "### 1- Convert the lyrics to lowercase :\n"
      ]
    },
    {
      "metadata": {
        "id": "xVOSN8qIqz0P",
        "trusted": true,
        "_uuid": "86dfbfa1f1284f0a182fa19aa29af9119c34d0d3"
      },
      "cell_type": "code",
      "source": [
        "# Load the dataset and convert it to lowercase :\n",
        "raw_text = lyricsText\n",
        "raw_text = raw_text.lower()\n"
      ],
      "execution_count": null,
      "outputs": []
    },
    {
      "metadata": {
        "id": "C4wKS9n5rpNg",
        "_uuid": "68bd41ac0b19455978c65a63ccfc63a26f5f8836"
      },
      "cell_type": "markdown",
      "source": [
        "### 2- Mapping characters :\n",
        " Make two dictionaries , one to convert chars to ints , the other to convert ints back to chars :\n"
      ]
    },
    {
      "metadata": {
        "id": "jafC0WcvsA4R",
        "trusted": true,
        "_uuid": "798a44a3f1172dd7c4c53039077a428243402fed"
      },
      "cell_type": "code",
      "source": [
        "# Mapping chars to ints :\n",
        "chars = sorted(list(set(raw_text)))\n",
        "int_chars = dict((i, c) for i, c in enumerate(chars))\n",
        "chars_int = dict((i, c) for c, i in enumerate(chars))\n"
      ],
      "execution_count": null,
      "outputs": []
    },
    {
      "cell_type": "code",
      "source": [],
      "metadata": {
        "id": "i4ztBEPvTRd6"
      },
      "execution_count": null,
      "outputs": []
    },
    {
      "metadata": {
        "id": "WsWUvqD0sGsX",
        "trusted": true,
        "_uuid": "da9c26203f87d2c8950eb1ef58135c686759ed4d"
      },
      "cell_type": "code",
      "source": [
        "# Get number of chars and vocab in our text :\n",
        "n_chars = len(raw_text)\n",
        "n_vocab = len(chars)\n"
      ],
      "execution_count": null,
      "outputs": []
    },
    {
      "metadata": {
        "id": "fSItHMeqsMyR",
        "colab": {
          "base_uri": "https://localhost:8080/"
        },
        "outputId": "cf2191c9-c7c8-490a-d15e-e5738fd19cbe",
        "trusted": true,
        "_uuid": "1976e70e41ed71a6fbadf01c76e82ba7df6eb81a"
      },
      "cell_type": "code",
      "source": [
        "print('Total Characters : ' , n_chars) # number of all the characters in lyricsText.txt\n",
        "print('Total Vocab : ', n_vocab) # number of unique characters\n"
      ],
      "execution_count": null,
      "outputs": [
        {
          "output_type": "stream",
          "name": "stdout",
          "text": [
            "Total Characters :  173604\n",
            "Total Vocab :  58\n"
          ]
        }
      ]
    },
    {
      "metadata": {
        "id": "ErC8jLlDsxpH",
        "_uuid": "da120c2857f88e1064e49d7437d960f7efa3a58f"
      },
      "cell_type": "markdown",
      "source": [
        "### 3- Make samples and labels :\n",
        "Make samples and labels to feed the LSTM RNN"
      ]
    },
    {
      "metadata": {
        "id": "t7vPB3K6s-6v",
        "colab": {
          "base_uri": "https://localhost:8080/"
        },
        "outputId": "2288649e-7537-4b43-dcc0-542b154d703d",
        "trusted": true,
        "_uuid": "ee59fd66f7036782a94c08ebb8d4386926469c9f"
      },
      "cell_type": "code",
      "source": [
        "# process the dataset:\n",
        "seq_len = 100\n",
        "data_X = []\n",
        "data_y = []\n",
        "\n",
        "for i in range(0, n_chars - seq_len, 1):\n",
        "    # Input Sequeance(will be used as samples)\n",
        "    seq_in  = raw_text[i:i+seq_len]\n",
        "    # Output sequence (will be used as target)\n",
        "    seq_out = raw_text[i + seq_len]\n",
        "    # Store samples in data_X\n",
        "    data_X.append([chars_int[char] for char in seq_in])\n",
        "    # Store targets in data_y\n",
        "    data_y.append(chars_int[seq_out])\n",
        "n_patterns = len(data_X)\n",
        "print( 'Total Patterns : ', n_patterns)\n"
      ],
      "execution_count": null,
      "outputs": [
        {
          "output_type": "stream",
          "name": "stdout",
          "text": [
            "Total Patterns :  173504\n"
          ]
        }
      ]
    },
    {
      "metadata": {
        "id": "pHF-E1QLuAf6",
        "_uuid": "b06dfce02662789158ef0ee6c7b538163bf9e33c"
      },
      "cell_type": "markdown",
      "source": [
        "### 4- Prepare the samples and labels :\n",
        "prepare the samples and labels to be ready to go into our model.\n",
        "* Reshape the samples\n",
        "* Normalize them\n",
        "* One hot encode the output targets"
      ]
    },
    {
      "metadata": {
        "id": "-HL0q0DouKei",
        "trusted": true,
        "_uuid": "9c1122c3d1045e162ba5dfc0d9732484832c08d0"
      },
      "cell_type": "code",
      "source": [
        "# Reshape X to be suitable to go into LSTM RNN :\n",
        "X = np.reshape(data_X , (n_patterns, seq_len, 1))\n",
        "# Normalizing input data :\n",
        "X = X/ float(n_vocab)\n",
        "# One hot encode the output targets :\n",
        "y = ku.to_categorical(data_y)"
      ],
      "execution_count": null,
      "outputs": []
    },
    {
      "metadata": {
        "id": "CB9FHOuWzSMz",
        "_uuid": "c9ea87f9fd5e86492c24bd7cd4a93f1b62bd256a"
      },
      "cell_type": "markdown",
      "source": [
        "After we finished processing the dataset , we will start building our LSTM RNN model .\n",
        "\n",
        "## Building The Model"
      ]
    },
    {
      "metadata": {
        "id": "cwg_rARt92L7",
        "_uuid": "a648cd9470f2cfd777599598b89175c4c46c2395"
      },
      "cell_type": "markdown",
      "source": [
        "## First way : From Scratch"
      ]
    },
    {
      "metadata": {
        "id": "vbVsgyoj0R9G",
        "_uuid": "5c8eb404785147244007c48b3d40d8c576b1e8e4"
      },
      "cell_type": "markdown",
      "source": [
        "We will start by determining how many layers our model will has , and how many nodes each layer will has :"
      ]
    },
    {
      "metadata": {
        "id": "uEBOjT8b0puT",
        "trusted": true,
        "_uuid": "b7f2a205154170ba0239a5e652e6b768693867e8"
      },
      "cell_type": "code",
      "source": [
        "LSTM_layer_num = 4 # number of LSTM layers\n",
        "layer_size = [256,256,256,256] # number of nodes in each layer"
      ],
      "execution_count": null,
      "outputs": []
    },
    {
      "metadata": {
        "id": "gaZgebyX0_DK",
        "_uuid": "fa5a74dfe290a1df93e0df7b4a57257cd2c7e5fb"
      },
      "cell_type": "markdown",
      "source": [
        "Define a sequential model :\n"
      ]
    },
    {
      "metadata": {
        "id": "2VoVZqCY1GlC",
        "trusted": true,
        "_uuid": "51cf548fb2e9eb61423e768a2d7e3716d907bcf3"
      },
      "cell_type": "code",
      "source": [
        "model = Sequential()"
      ],
      "execution_count": null,
      "outputs": []
    },
    {
      "metadata": {
        "id": "N1qmHybP50Mf",
        "_uuid": "6a9eb30e729552ee70121d4681882dea2652eaec"
      },
      "cell_type": "markdown",
      "source": [
        "### LSTM layer"
      ]
    },
    {
      "metadata": {
        "id": "v5q0sEfv1IJg",
        "_uuid": "9cfb70468af033ded1ee0ee2c8909fae27ef0763"
      },
      "cell_type": "markdown",
      "source": [
        "Add an input layer :"
      ]
    },
    {
      "metadata": {
        "id": "nBCy2aCI1NEn",
        "trusted": true,
        "_uuid": "0c58c6d7c22a45294376bd0b58a8cebcb3d5ff12"
      },
      "cell_type": "code",
      "source": [
        "model.add(LSTM(layer_size[0], input_shape =(X.shape[1], X.shape[2]), return_sequences = True))\n",
        "model.add(Dropout(0.1))"
      ],
      "execution_count": null,
      "outputs": []
    },
    {
      "metadata": {
        "id": "hbQE1EYX1TLD",
        "_uuid": "444f610e519ee7c27a0a196cf9541c2d70f3bbb3"
      },
      "cell_type": "markdown",
      "source": [
        "Add some hidden layers :"
      ]
    },
    {
      "metadata": {
        "id": "CngOC8xX1YcL",
        "trusted": true,
        "_uuid": "fbc25c0729299d8f810b3dc8aaff3d9577963c13"
      },
      "cell_type": "code",
      "source": [
        "for i in range(1,LSTM_layer_num) :\n",
        "    model.add(LSTM(layer_size[i], return_sequences=True))\n",
        "    model.add(Dropout(0.1))"
      ],
      "execution_count": null,
      "outputs": []
    },
    {
      "metadata": {
        "id": "Mc7Rd3WE1hTJ",
        "_uuid": "340ea8488975e0cd1fde8c054786d28248c315fc"
      },
      "cell_type": "markdown",
      "source": [
        "Flatten the data that is coming from the last hidden layer to input it to the output layer :"
      ]
    },
    {
      "metadata": {
        "id": "AZvmlrtO1tkO",
        "trusted": true,
        "_uuid": "f02b349358b5dc7fe564c7cddd9e88ed801f38a8"
      },
      "cell_type": "code",
      "source": [
        "model.add(Flatten())"
      ],
      "execution_count": null,
      "outputs": []
    },
    {
      "metadata": {
        "id": "WWlyuZM91yBt",
        "_uuid": "fca52bdbe2352cd8a43154fb2c2a2b3bb05705d4"
      },
      "cell_type": "markdown",
      "source": [
        "Add an output layer and define its activation function to be **'softmax'**\n",
        "\n",
        "and then compile the model with the next params :\n",
        "*  loss = 'categorical_crossentropy'\n",
        "*  optimizer = 'adam'"
      ]
    },
    {
      "metadata": {
        "id": "GuaTsnQa1wSY",
        "trusted": true,
        "_uuid": "881766ba39a57d1bd4b31e18da3a1a10af7cb2d5"
      },
      "cell_type": "code",
      "source": [
        "model.add(Dense(y.shape[1]))\n",
        "model.add(Activation('softmax'))\n",
        "model.compile(loss = 'categorical_crossentropy', optimizer = 'adam')"
      ],
      "execution_count": null,
      "outputs": []
    },
    {
      "metadata": {
        "id": "6bBWrlrV5EA1",
        "_uuid": "b51f9bca2f89b0a03a76d49aeb09103baf8f3098"
      },
      "cell_type": "markdown",
      "source": [
        "Print a summary of the model to see some details :"
      ]
    },
    {
      "cell_type": "code",
      "source": [
        "ku.plot_model(model)"
      ],
      "metadata": {
        "colab": {
          "base_uri": "https://localhost:8080/",
          "height": 1000
        },
        "id": "5JIHnamhXJ58",
        "outputId": "babd2430-0854-4473-fb6e-1f6907dee9de"
      },
      "execution_count": null,
      "outputs": [
        {
          "output_type": "execute_result",
          "data": {
            "image/png": "[encoded data removed]",
            "text/plain": [
              "<IPython.core.display.Image object>"
            ]
          },
          "metadata": {},
          "execution_count": 46
        }
      ]
    },
    {
      "metadata": {
        "id": "B0_EwdN65L94",
        "colab": {
          "base_uri": "https://localhost:8080/"
        },
        "outputId": "be3d755e-59c4-4149-be2c-eac8feae5525",
        "trusted": true,
        "_uuid": "59e280da24cad7f570b7cf3ba24667b8f4a5268f"
      },
      "cell_type": "code",
      "source": [
        "model.summary()"
      ],
      "execution_count": null,
      "outputs": [
        {
          "output_type": "stream",
          "name": "stdout",
          "text": [
            "Model: \"sequential\"\n",
            "_________________________________________________________________\n",
            " Layer (type)                Output Shape              Param #   \n",
            "=================================================================\n",
            " lstm (LSTM)                 (None, 100, 256)          264192    \n",
            "                                                                 \n",
            " dropout (Dropout)           (None, 100, 256)          0         \n",
            "                                                                 \n",
            " lstm_1 (LSTM)               (None, 100, 256)          525312    \n",
            "                                                                 \n",
            " dropout_1 (Dropout)         (None, 100, 256)          0         \n",
            "                                                                 \n",
            " lstm_2 (LSTM)               (None, 100, 256)          525312    \n",
            "                                                                 \n",
            " dropout_2 (Dropout)         (None, 100, 256)          0         \n",
            "                                                                 \n",
            " lstm_3 (LSTM)               (None, 100, 256)          525312    \n",
            "                                                                 \n",
            " dropout_3 (Dropout)         (None, 100, 256)          0         \n",
            "                                                                 \n",
            " flatten (Flatten)           (None, 25600)             0         \n",
            "                                                                 \n",
            " dense (Dense)               (None, 58)                1484858   \n",
            "                                                                 \n",
            " activation (Activation)     (None, 58)                0         \n",
            "                                                                 \n",
            " dense_1 (Dense)             (None, 58)                3422      \n",
            "                                                                 \n",
            " activation_1 (Activation)   (None, 58)                0         \n",
            "                                                                 \n",
            "=================================================================\n",
            "Total params: 3328408 (12.70 MB)\n",
            "Trainable params: 3328408 (12.70 MB)\n",
            "Non-trainable params: 0 (0.00 Byte)\n",
            "_________________________________________________________________\n"
          ]
        }
      ]
    },
    {
      "metadata": {
        "id": "aKtPQlVW2fwm",
        "_uuid": "3ce64758a75aa641a5c00b771ab792935795d9d1"
      },
      "cell_type": "markdown",
      "source": [
        "After we defined the model , we will define the needed callbacks.\n",
        "\n",
        "### callback\n",
        "A callback is a function that is called after every epoch\n",
        "\n",
        "in our case we will call the checkpoint callback , what a checkpoint callback does is saving the weights of the model every time the model gets better."
      ]
    },
    {
      "metadata": {
        "id": "z9agmjvU3gNL",
        "trusted": true,
        "_uuid": "c99a817b2959f60063b17ec9c158afc8564d6b10"
      },
      "cell_type": "code",
      "source": [
        "# Configure the checkpoint :\n",
        "checkpoint_name = 'Weights-LSTM-improvement-{epoch:03d}-{loss:.5f}-bigger.hdf5'\n",
        "checkpoint = ModelCheckpoint(checkpoint_name, monitor='loss', verbose = 1, save_best_only = True, mode ='min')\n",
        "callbacks_list = [checkpoint]"
      ],
      "execution_count": null,
      "outputs": []
    },
    {
      "metadata": {
        "id": "5G3g4N7A3iTo",
        "_uuid": "8b2d2bf060d08381c173519654d012728ce2f5b0"
      },
      "cell_type": "markdown",
      "source": [
        "## Training\n",
        "A model can't do a thing if it did not train.\n",
        "\n",
        "\n",
        "\n",
        "We can tweak `model_params` to get a better model"
      ]
    },
    {
      "metadata": {
        "id": "a95hUKQf4OnJ",
        "colab": {
          "base_uri": "https://localhost:8080/"
        },
        "outputId": "0716bdd5-f6d3-4242-f21c-c4b22444e4a6",
        "trusted": true,
        "_uuid": "6330e9aec157ec8c902a0351e9bfa98ca5452ae1"
      },
      "cell_type": "code",
      "source": [
        "# Fit the model : we have run the code for only two epochs, due to limited computational resources.\n",
        "model_params = {'epochs':2,\n",
        "                'batch_size':128,\n",
        "                'callbacks':callbacks_list,\n",
        "                'verbose':1,\n",
        "                'validation_split':0.2,\n",
        "                'validation_data':None,\n",
        "                'shuffle': True,\n",
        "                'initial_epoch':0,\n",
        "                'steps_per_epoch':None,\n",
        "                'validation_steps':None}\n",
        "\n",
        "model.fit(X,\n",
        "          y,\n",
        "          epochs = model_params['epochs'],\n",
        "           batch_size = model_params['batch_size'],\n",
        "           callbacks= model_params['callbacks'],\n",
        "           verbose = model_params['verbose'],\n",
        "           validation_split = model_params['validation_split'],\n",
        "           validation_data = model_params['validation_data'],\n",
        "           shuffle = model_params['shuffle'],\n",
        "           initial_epoch = model_params['initial_epoch'],\n",
        "           steps_per_epoch = model_params['steps_per_epoch'],\n",
        "           validation_steps = model_params['validation_steps'])\n"
      ],
      "execution_count": null,
      "outputs": [
        {
          "output_type": "stream",
          "name": "stdout",
          "text": [
            "Epoch 1/2\n",
            "1085/1085 [==============================] - ETA: 0s - loss: 3.4018\n",
            "Epoch 1: loss improved from inf to 3.40179, saving model to Weights-LSTM-improvement-001-3.40179-bigger.hdf5\n",
            "1085/1085 [==============================] - 3303s 3s/step - loss: 3.4018 - val_loss: 3.1300\n",
            "Epoch 2/2\n"
          ]
        },
        {
          "output_type": "stream",
          "name": "stderr",
          "text": [
            "/usr/local/lib/python3.10/dist-packages/keras/src/engine/training.py:3103: UserWarning: You are saving your model as an HDF5 file via `model.save()`. This file format is considered legacy. We recommend using instead the native Keras format, e.g. `model.save('my_model.keras')`.\n",
            "  saving_api.save_model(\n"
          ]
        },
        {
          "output_type": "stream",
          "name": "stdout",
          "text": [
            "1085/1085 [==============================] - ETA: 0s - loss: 3.0632\n",
            "Epoch 2: loss improved from 3.40179 to 3.06318, saving model to Weights-LSTM-improvement-002-3.06318-bigger.hdf5\n",
            "1085/1085 [==============================] - 3225s 3s/step - loss: 3.0632 - val_loss: 3.0496\n"
          ]
        },
        {
          "output_type": "execute_result",
          "data": {
            "text/plain": [
              "<keras.src.callbacks.History at 0x7dbefb75e5c0>"
            ]
          },
          "metadata": {},
          "execution_count": 27
        }
      ]
    },
    {
      "metadata": {
        "id": "1AXMqjkkXi7A",
        "_uuid": "cec7c3d26bd061ca7830119abf44ff2c388caee2"
      },
      "cell_type": "markdown",
      "source": [
        "We can see that some files have been downloaded ('Weights-LSTM-improvement-{epoch:03d}-{loss:.5f}-bigger.hdf5'), we can use such files to load the trained weights to be used in untrained models (i.e we don't have to train a model every time we want to use it)\n",
        "\n",
        "The procedure to load the weights is mentioned below:\n",
        "\n"
      ]
    },
    {
      "metadata": {
        "id": "7sud9lOmYguG",
        "trusted": false,
        "_uuid": "3c6a6a8ef42d9f3336ac4d3580de9d432a627efb"
      },
      "cell_type": "code",
      "source": [
        " #Load weights file :\n",
        "weights_file = '/content/Weights-LSTM-improvement-001-3.40179-bigger.hdf5' # weights file path\n",
        "model.load_weights(weights_file)\n",
        "model.compile(loss = 'categorical_crossentropy', optimizer = 'adam')"
      ],
      "execution_count": null,
      "outputs": []
    },
    {
      "metadata": {
        "id": "aSl6u6oWWFyF",
        "_uuid": "50b663432596d2ed1081777a5bb2fea5be6e7416"
      },
      "cell_type": "markdown",
      "source": [
        "Now , after we trained the model ,we can use it to generate fake  lyrics\n",
        "\n",
        "## Generating lyrics\n",
        "We first pick a random seed , then we will use it to generate lyrics character by character ."
      ]
    },
    {
      "metadata": {
        "id": "I5EngGk8YuJv",
        "colab": {
          "base_uri": "https://localhost:8080/"
        },
        "outputId": "98870157-0a01-4145-be45-f1116aac1aaa",
        "trusted": false,
        "_uuid": "b93d2ec049f3232e54bf6bf6b28f3f9f79395e7e"
      },
      "cell_type": "code",
      "source": [
        "# set a random seed :\n",
        "start = np.random.randint(0, len(data_X)-1)\n",
        "pattern = data_X[start]\n",
        "print('Seed : ')\n",
        "print(\"\\\"\",''.join([int_chars[value] for value in pattern]), \"\\\"\\n\")\n",
        "\n",
        "# How many characters you want to generate\n",
        "generated_characters = 300\n",
        "generated_text = []\n",
        "\n",
        "# Generate Charachters :\n",
        "for i in range(generated_characters):\n",
        "    x = np.reshape(pattern, ( 1, len(pattern), 1))\n",
        "    x = x / float(n_vocab)\n",
        "    prediction = model.predict(x,verbose = 0)\n",
        "    index = np.argmax(prediction)\n",
        "    result = int_chars[index]\n",
        "    #seq_in = [int_chars[value] for value in pattern]\n",
        "    sys.stdout.write(result)\n",
        "    generated_text.append(result)\n",
        "    pattern.append(index)\n",
        "    pattern = pattern[1:len(pattern)]\n",
        "print('\\nGenerated Text:')\n",
        "print(\"\\\"\", generated_text_string, \"\\\"\\n\")\n",
        "print('\\nDone')\n",
        "\n"
      ],
      "execution_count": null,
      "outputs": [
        {
          "output_type": "stream",
          "name": "stdout",
          "text": [
            "Seed : \n",
            "\" follow you follow you home, follow you follow you home\n",
            "this slope is treacherous\n",
            "and i-i-i like it\n",
            "o \"\n",
            "\n",
            "                                                                                                                                                                                                                                                                                                            \n",
            "Generated Text:\n",
            "\" bout the place where you first met me\n",
            "in a getaway car, oh-oh-oh\n",
            "no, they never get far, oh-oh-ahh\n",
            "n                                                                                                                                                                                                                                                                                                             \"\n",
            "\n",
            "\n",
            "Done\n"
          ]
        }
      ]
    }
  ],
  "metadata": {
    "colab": {
      "provenance": [],
      "include_colab_link": true
    },
    "kernelspec": {
      "display_name": "Python 3",
      "language": "python",
      "name": "python3"
    },
    "language_info": {
      "name": "python",
      "version": "3.6.6",
      "mimetype": "text/x-python",
      "codemirror_mode": {
        "name": "ipython",
        "version": 3
      },
      "pygments_lexer": "ipython3",
      "nbconvert_exporter": "python",
      "file_extension": ".py"
    }
  },
  "nbformat": 4,
  "nbformat_minor": 0
}